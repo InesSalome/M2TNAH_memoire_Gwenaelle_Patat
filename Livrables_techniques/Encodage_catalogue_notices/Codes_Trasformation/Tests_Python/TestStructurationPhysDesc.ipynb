{
 "cells": [
  {
   "cell_type": "code",
   "execution_count": 4,
   "metadata": {},
   "outputs": [
    {
     "ename": "ModuleNotFoundError",
     "evalue": "No module named 'exceptions'",
     "output_type": "error",
     "traceback": [
      "\u001b[0;31m---------------------------------------------------------------------------\u001b[0m",
      "\u001b[0;31mModuleNotFoundError\u001b[0m                       Traceback (most recent call last)",
      "\u001b[0;32m<ipython-input-4-7d0d6176c5c0>\u001b[0m in \u001b[0;36m<module>\u001b[0;34m\u001b[0m\n\u001b[1;32m      1\u001b[0m \u001b[0;32mimport\u001b[0m \u001b[0mre\u001b[0m\u001b[0;34m\u001b[0m\u001b[0;34m\u001b[0m\u001b[0m\n\u001b[1;32m      2\u001b[0m \u001b[0;32mimport\u001b[0m \u001b[0mdocx2txt\u001b[0m\u001b[0;34m\u001b[0m\u001b[0;34m\u001b[0m\u001b[0m\n\u001b[0;32m----> 3\u001b[0;31m \u001b[0;32mfrom\u001b[0m \u001b[0mdocx\u001b[0m \u001b[0;32mimport\u001b[0m \u001b[0mDocument\u001b[0m\u001b[0;34m\u001b[0m\u001b[0;34m\u001b[0m\u001b[0m\n\u001b[0m\u001b[1;32m      4\u001b[0m \u001b[0;34m\u001b[0m\u001b[0m\n\u001b[1;32m      5\u001b[0m \u001b[0;34m\u001b[0m\u001b[0m\n",
      "\u001b[0;32m/opt/anaconda3/lib/python3.7/site-packages/docx.py\u001b[0m in \u001b[0;36m<module>\u001b[0;34m\u001b[0m\n\u001b[1;32m     28\u001b[0m     \u001b[0mTAGS\u001b[0m \u001b[0;34m=\u001b[0m \u001b[0;34m{\u001b[0m\u001b[0;34m}\u001b[0m\u001b[0;34m\u001b[0m\u001b[0;34m\u001b[0m\u001b[0m\n\u001b[1;32m     29\u001b[0m \u001b[0;34m\u001b[0m\u001b[0m\n\u001b[0;32m---> 30\u001b[0;31m \u001b[0;32mfrom\u001b[0m \u001b[0mexceptions\u001b[0m \u001b[0;32mimport\u001b[0m \u001b[0mPendingDeprecationWarning\u001b[0m\u001b[0;34m\u001b[0m\u001b[0;34m\u001b[0m\u001b[0m\n\u001b[0m\u001b[1;32m     31\u001b[0m \u001b[0;32mfrom\u001b[0m \u001b[0mwarnings\u001b[0m \u001b[0;32mimport\u001b[0m \u001b[0mwarn\u001b[0m\u001b[0;34m\u001b[0m\u001b[0;34m\u001b[0m\u001b[0m\n\u001b[1;32m     32\u001b[0m \u001b[0;34m\u001b[0m\u001b[0m\n",
      "\u001b[0;31mModuleNotFoundError\u001b[0m: No module named 'exceptions'"
     ]
    }
   ],
   "source": [
    "import re\n",
    "import docx2txt\n",
    "from docx import Document\n",
    "from docx.shared import Inches\n",
    "\n",
    "notices = Document(r'Structuration_notices_Leroquais copie.docx') \n",
    "\n",
    "#Capture des titres de notices dans l'ordre stockées dans un dictionnaire\n",
    "livres_heures={}\n",
    "for char in range(1, 320):\n",
    "    try:\n",
    "        titre=re.search(r\"\\n\"+'((l|I){1,2})?'+ str(char) + \"\\.\" + '.*?[A-ZÉÈÙÀ]{2,}.*?\\n', notices).group(0)\n",
    "        livres_heures[char]=titre\n",
    "        #print(titre)\n",
    "    except: #Exceptions utiles pour détecter les possibles dénominations irrégulières\n",
    "        #print(char)\n",
    "        continue\n",
    "        \n",
    "#Utilisation des valeurs du dictionnaire, soit les titres de notices, pour diviser le texte et associer le contenu à chaque titre\n",
    "regexPattern = '|'.join(map(re.escape, livres_heures.values()))\n",
    "contenu=re.split(regexPattern, notices)\n",
    "        \n",
    "        \n",
    "#Zip de la liste pour créer une liste de tuples contenant les titres et leur contenu\n",
    "structure_notices = list(zip(livres_heures.values(), contenu[1:]))\n",
    "\n",
    "#Capture de l'élément <material> dans le <physDesc>\n",
    "for index, char in enumerate(structure_notices):\n",
    "   # try:\n",
    "        material=re.search(r\"\\n.Parch\\.|Papier\", char[1]).group(0)  # char[1] est le contenu dans notre tuple\n",
    "        structure_notices[index].append(history)#Modification de la liste principale\n",
    "        print(history)\n",
    "    #except :\n",
    "        #print(index)\n",
    "        #continue \n",
    "        \n",
    "\"\"\"for paragraph in existing_docx.paragraphs: \n",
    "    paragraph.text = paragraph.text + your_text \n",
    "existing_docx.save(r'same_path_or_another.docx') \n",
    "\"\"\""
   ]
  },
  {
   "cell_type": "code",
   "execution_count": null,
   "metadata": {},
   "outputs": [],
   "source": []
  }
 ],
 "metadata": {
  "kernelspec": {
   "display_name": "Python 3",
   "language": "python",
   "name": "python3"
  },
  "language_info": {
   "codemirror_mode": {
    "name": "ipython",
    "version": 3
   },
   "file_extension": ".py",
   "mimetype": "text/x-python",
   "name": "python",
   "nbconvert_exporter": "python",
   "pygments_lexer": "ipython3",
   "version": "3.7.4"
  }
 },
 "nbformat": 4,
 "nbformat_minor": 2
}
